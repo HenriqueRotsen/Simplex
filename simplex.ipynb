{
 "cells": [
  {
   "cell_type": "code",
   "execution_count": 191,
   "metadata": {},
   "outputs": [],
   "source": [
    "import numpy as np\n",
    "import math"
   ]
  },
  {
   "cell_type": "code",
   "execution_count": 192,
   "metadata": {},
   "outputs": [
    {
     "data": {
      "text/plain": [
       "'\\nn = int(input())\\nassert (n >= 1 and n <= 100)\\nm = int(input())\\nassert (m >= 1 and m <= 100)\\n\\npl = np.zeros((n, m))\\nfor i in range(n):\\n  for j in range(m):\\n    x = int(input())\\n    assert x <= 100\\n    pl[i][j] = x\\nprint(pl)\\n'"
      ]
     },
     "execution_count": 192,
     "metadata": {},
     "output_type": "execute_result"
    }
   ],
   "source": [
    "\"\"\"\n",
    "n = int(input())\n",
    "assert (n >= 1 and n <= 100)\n",
    "m = int(input())\n",
    "assert (m >= 1 and m <= 100)\n",
    "\n",
    "pl = np.zeros((n, m))\n",
    "for i in range(n):\n",
    "  for j in range(m):\n",
    "    x = int(input())\n",
    "    assert x <= 100\n",
    "    pl[i][j] = x\n",
    "print(pl)\n",
    "\"\"\"\n"
   ]
  },
  {
   "cell_type": "code",
   "execution_count": 193,
   "metadata": {},
   "outputs": [],
   "source": [
    "def criaTableau(c, A, b, x, y):\n",
    "    tableau = np.zeros((x+1, y+1))\n",
    "    v = np.identity(x)\n",
    "    \n",
    "    k = np.zeros((x))\n",
    "    v = np.vstack([k, v])\n",
    "    \n",
    "    for i in range(y):\n",
    "        tableau[0][i] = -c[i]\n",
    "\n",
    "    for i in range(x):\n",
    "        for j in range(y):\n",
    "            tableau[i+1][j] = A[i][j]\n",
    "\n",
    "    for i in range(x):\n",
    "        tableau[i+1][y] = b[i]\n",
    "    \n",
    "    return tableau, v"
   ]
  },
  {
   "cell_type": "code",
   "execution_count": 194,
   "metadata": {},
   "outputs": [],
   "source": [
    "def isOtima(tableau):\n",
    "    z = tableau[0]\n",
    "    for i in z[:-1]:\n",
    "        if i > 0:\n",
    "            return False\n",
    "    return True"
   ]
  },
  {
   "cell_type": "code",
   "execution_count": 195,
   "metadata": {},
   "outputs": [],
   "source": [
    "# Usando Regra de Bland\n",
    "def pivotPosition(tableau):\n",
    "    z = tableau[0]\n",
    "    for i in range(len(z)-1):\n",
    "        if z[i] > 0:\n",
    "            column = i\n",
    "            break\n",
    "    else:\n",
    "        raise Exception(\"ERRO: Nao foi possivel encontar um valor na funcao Objetiva que permite a melhora!\\n Favor Verificar o tableu e tentar novamente.\")\n",
    "\n",
    "    restricoes = []\n",
    "    for eq in tableau[1:]:\n",
    "        el = eq[column]\n",
    "        restricoes.append(math.inf if el <= 0 else eq[-1] / el)\n",
    "\n",
    "    if all(x == math.inf for x in restricoes):\n",
    "        print(\"===============================\\n\\n          ILIMITADA\\n\\n===============================\")\n",
    "\n",
    "    row = restricoes.index(min(restricoes))\n",
    "    return row, column\n",
    "    "
   ]
  },
  {
   "cell_type": "code",
   "execution_count": 196,
   "metadata": {},
   "outputs": [],
   "source": [
    "def eliminacaoGaussiana(tableau, pivot_position, vero):\n",
    "    novoTableau = [[] for eq in tableau]\n",
    "\n",
    "    i, j = pivot_position\n",
    "    pivot_value = tableau[i][j]\n",
    "    \n",
    "    # Dividindo a linha do pivo por ele mesmo, para virar 1.\n",
    "    novoTableau[i] = np.array(tableau[i]) / pivot_value\n",
    "    \n",
    "    # Dividindo a linha do vero pelo pivo.\n",
    "    vero[i] /= pivot_value\n",
    "\n",
    "    for eq_i, eq in enumerate(tableau):\n",
    "        if eq_i != i:\n",
    "            multiplier = np.array(novoTableau[i]) * tableau[eq_i][j]\n",
    "            novoTableau[eq_i] = np.array(tableau[eq_i]) - multiplier\n",
    "            vero[eq_i] -= multiplier\n",
    "    \n",
    "    return novoTableau, vero"
   ]
  },
  {
   "cell_type": "code",
   "execution_count": 211,
   "metadata": {},
   "outputs": [],
   "source": [
    "def is_basic(column):\n",
    "    return sum(column) == 1 and len([c for c in column if c == 0]) == len(column) - 1\n",
    "\n",
    "def get_solution(tableau):\n",
    "    columns = np.array(tableau).T\n",
    "    solutions = []\n",
    "    for column in columns[:-1]:\n",
    "        solution = 0\n",
    "        if is_basic(column):\n",
    "            one_index = column.tolist().index(1)\n",
    "            solution = columns[-1][one_index]\n",
    "        solutions.append(solution)\n",
    "\n",
    "    return solutions"
   ]
  },
  {
   "cell_type": "code",
   "execution_count": 209,
   "metadata": {},
   "outputs": [],
   "source": [
    "def simplex(c, A, b):\n",
    "    x = len(A)\n",
    "    y = len(A[0])\n",
    "    \n",
    "    tableau, vero = criaTableau(c, A, b, x, y)\n",
    "    print(isOtima(tableau))\n",
    "    \n",
    "    print(tableau)\n",
    "    print(vero)\n",
    "\n",
    "    while not(isOtima(tableau)):\n",
    "        pivot_position = pivotPosition(tableau)\n",
    "        tableau = eliminacaoGaussiana(tableau, pivot_position, vero)\n",
    "\n",
    "    return get_solution(tableau)"
   ]
  },
  {
   "cell_type": "code",
   "execution_count": 210,
   "metadata": {},
   "outputs": [
    {
     "name": "stdout",
     "output_type": "stream",
     "text": [
      "True\n",
      "[[-2. -4. -8.  0.]\n",
      " [ 1.  0.  0.  1.]\n",
      " [ 0.  1.  0.  1.]\n",
      " [ 0.  0.  1.  1.]]\n",
      "[[0. 0. 0.]\n",
      " [1. 0. 0.]\n",
      " [0. 1. 0.]\n",
      " [0. 0. 1.]]\n"
     ]
    },
    {
     "data": {
      "text/plain": [
       "[0, 0, 0]"
      ]
     },
     "execution_count": 210,
     "metadata": {},
     "output_type": "execute_result"
    }
   ],
   "source": [
    "c = [2, 4, 8]\n",
    "A = [[1, 0, 0],[0, 1, 0],[0, 0, 1]]\n",
    "b = [1, 1, 1]\n",
    "simplex(c, A, b)"
   ]
  }
 ],
 "metadata": {
  "kernelspec": {
   "display_name": "Python 3.8.10 64-bit",
   "language": "python",
   "name": "python3"
  },
  "language_info": {
   "codemirror_mode": {
    "name": "ipython",
    "version": 3
   },
   "file_extension": ".py",
   "mimetype": "text/x-python",
   "name": "python",
   "nbconvert_exporter": "python",
   "pygments_lexer": "ipython3",
   "version": "3.8.10"
  },
  "orig_nbformat": 4,
  "vscode": {
   "interpreter": {
    "hash": "916dbcbb3f70747c44a77c7bcd40155683ae19c65e1c03b4aa3499c5328201f1"
   }
  }
 },
 "nbformat": 4,
 "nbformat_minor": 2
}
